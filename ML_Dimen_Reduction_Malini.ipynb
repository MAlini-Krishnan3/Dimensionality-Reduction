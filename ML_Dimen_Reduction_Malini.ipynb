{
 "cells": [
  {
   "cell_type": "markdown",
   "id": "a4dc5546-1972-4a21-825e-3149bdcd45ee",
   "metadata": {},
   "source": [
    "# Homework 1"
   ]
  },
  {
   "cell_type": "code",
   "execution_count": 124,
   "id": "f55d8d2c-5053-4d79-920f-41346123681e",
   "metadata": {},
   "outputs": [],
   "source": [
    "import numpy as np\n",
    "import matplotlib.pyplot as plt\n",
    "from sklearn.feature_selection import f_regression, mutual_info_regression\n",
    "import pandas as pd"
   ]
  },
  {
   "cell_type": "code",
   "execution_count": 125,
   "id": "f6a03852-f7f8-480c-a2ea-2ddbb524b9ff",
   "metadata": {},
   "outputs": [],
   "source": [
    "# Missing optional dependency 'xlrd'. Install xlrd >= 2.0.1 for xls Excel support Use pip or conda to install xlrd.\n",
    "#while using pd.read_excel()\n",
    "# %pip install xlrd"
   ]
  },
  {
   "cell_type": "code",
   "execution_count": 126,
   "id": "06e22bbc-cfbf-4e11-9303-7b065c0205a0",
   "metadata": {},
   "outputs": [
    {
     "data": {
      "text/html": [
       "<div>\n",
       "<style scoped>\n",
       "    .dataframe tbody tr th:only-of-type {\n",
       "        vertical-align: middle;\n",
       "    }\n",
       "\n",
       "    .dataframe tbody tr th {\n",
       "        vertical-align: top;\n",
       "    }\n",
       "\n",
       "    .dataframe thead th {\n",
       "        text-align: right;\n",
       "    }\n",
       "</style>\n",
       "<table border=\"1\" class=\"dataframe\">\n",
       "  <thead>\n",
       "    <tr style=\"text-align: right;\">\n",
       "      <th></th>\n",
       "      <th>0</th>\n",
       "      <th>1</th>\n",
       "      <th>2</th>\n",
       "      <th>3</th>\n",
       "      <th>4</th>\n",
       "      <th>5</th>\n",
       "      <th>6</th>\n",
       "      <th>7</th>\n",
       "      <th>8</th>\n",
       "      <th>9</th>\n",
       "      <th>...</th>\n",
       "      <th>159</th>\n",
       "      <th>160</th>\n",
       "      <th>161</th>\n",
       "      <th>162</th>\n",
       "      <th>163</th>\n",
       "      <th>164</th>\n",
       "      <th>165</th>\n",
       "      <th>166</th>\n",
       "      <th>167</th>\n",
       "      <th>168</th>\n",
       "    </tr>\n",
       "  </thead>\n",
       "  <tbody>\n",
       "    <tr>\n",
       "      <th>0</th>\n",
       "      <td>21232</td>\n",
       "      <td>23203</td>\n",
       "      <td>38</td>\n",
       "      <td>-176</td>\n",
       "      <td>-158</td>\n",
       "      <td>31</td>\n",
       "      <td>-117</td>\n",
       "      <td>-93</td>\n",
       "      <td>42</td>\n",
       "      <td>41</td>\n",
       "      <td>...</td>\n",
       "      <td>-318</td>\n",
       "      <td>-208</td>\n",
       "      <td>22</td>\n",
       "      <td>55</td>\n",
       "      <td>118</td>\n",
       "      <td>78</td>\n",
       "      <td>-28</td>\n",
       "      <td>3</td>\n",
       "      <td>73</td>\n",
       "      <td>1</td>\n",
       "    </tr>\n",
       "    <tr>\n",
       "      <th>1</th>\n",
       "      <td>1254</td>\n",
       "      <td>25403</td>\n",
       "      <td>52</td>\n",
       "      <td>-120</td>\n",
       "      <td>-24</td>\n",
       "      <td>-41</td>\n",
       "      <td>-117</td>\n",
       "      <td>33</td>\n",
       "      <td>-164</td>\n",
       "      <td>71</td>\n",
       "      <td>...</td>\n",
       "      <td>-201</td>\n",
       "      <td>57</td>\n",
       "      <td>-21</td>\n",
       "      <td>-48</td>\n",
       "      <td>94</td>\n",
       "      <td>98</td>\n",
       "      <td>-14</td>\n",
       "      <td>10</td>\n",
       "      <td>97</td>\n",
       "      <td>2</td>\n",
       "    </tr>\n",
       "    <tr>\n",
       "      <th>2</th>\n",
       "      <td>210146</td>\n",
       "      <td>14614</td>\n",
       "      <td>49</td>\n",
       "      <td>-186</td>\n",
       "      <td>-141</td>\n",
       "      <td>143</td>\n",
       "      <td>-117</td>\n",
       "      <td>-25</td>\n",
       "      <td>197</td>\n",
       "      <td>-8</td>\n",
       "      <td>...</td>\n",
       "      <td>-29</td>\n",
       "      <td>-175</td>\n",
       "      <td>20</td>\n",
       "      <td>153</td>\n",
       "      <td>130</td>\n",
       "      <td>54</td>\n",
       "      <td>-44</td>\n",
       "      <td>-24</td>\n",
       "      <td>-19</td>\n",
       "      <td>1</td>\n",
       "    </tr>\n",
       "    <tr>\n",
       "      <th>3</th>\n",
       "      <td>21289</td>\n",
       "      <td>28904</td>\n",
       "      <td>57</td>\n",
       "      <td>12</td>\n",
       "      <td>41</td>\n",
       "      <td>-72</td>\n",
       "      <td>-117</td>\n",
       "      <td>75</td>\n",
       "      <td>-163</td>\n",
       "      <td>-86</td>\n",
       "      <td>...</td>\n",
       "      <td>-318</td>\n",
       "      <td>46</td>\n",
       "      <td>-15</td>\n",
       "      <td>-46</td>\n",
       "      <td>76</td>\n",
       "      <td>111</td>\n",
       "      <td>-10</td>\n",
       "      <td>4</td>\n",
       "      <td>110</td>\n",
       "      <td>1</td>\n",
       "    </tr>\n",
       "    <tr>\n",
       "      <th>4</th>\n",
       "      <td>21220</td>\n",
       "      <td>22005</td>\n",
       "      <td>35</td>\n",
       "      <td>-124</td>\n",
       "      <td>-140</td>\n",
       "      <td>110</td>\n",
       "      <td>-117</td>\n",
       "      <td>-31</td>\n",
       "      <td>51</td>\n",
       "      <td>-174</td>\n",
       "      <td>...</td>\n",
       "      <td>-316</td>\n",
       "      <td>-198</td>\n",
       "      <td>-30</td>\n",
       "      <td>4</td>\n",
       "      <td>104</td>\n",
       "      <td>98</td>\n",
       "      <td>-23</td>\n",
       "      <td>-4</td>\n",
       "      <td>95</td>\n",
       "      <td>1</td>\n",
       "    </tr>\n",
       "  </tbody>\n",
       "</table>\n",
       "<p>5 rows × 169 columns</p>\n",
       "</div>"
      ],
      "text/plain": [
       "      0      1    2    3    4    5    6    7    8    9    ...  159  160  161  \\\n",
       "0   21232  23203   38 -176 -158   31 -117  -93   42   41  ... -318 -208   22   \n",
       "1    1254  25403   52 -120  -24  -41 -117   33 -164   71  ... -201   57  -21   \n",
       "2  210146  14614   49 -186 -141  143 -117  -25  197   -8  ...  -29 -175   20   \n",
       "3   21289  28904   57   12   41  -72 -117   75 -163  -86  ... -318   46  -15   \n",
       "4   21220  22005   35 -124 -140  110 -117  -31   51 -174  ... -316 -198  -30   \n",
       "\n",
       "   162  163  164  165  166  167  168  \n",
       "0   55  118   78  -28    3   73    1  \n",
       "1  -48   94   98  -14   10   97    2  \n",
       "2  153  130   54  -44  -24  -19    1  \n",
       "3  -46   76  111  -10    4  110    1  \n",
       "4    4  104   98  -23   -4   95    1  \n",
       "\n",
       "[5 rows x 169 columns]"
      ]
     },
     "execution_count": 126,
     "metadata": {},
     "output_type": "execute_result"
    }
   ],
   "source": [
    "filePath = '/Users/maliniradhakrishnan/Desktop/MIS/sem 4/PETE/HW1/Feature_Target.xls'\n",
    "raw_df = pd.read_excel(filePath, header = None) #Looks like the file doesnt have headers, so header = None\n",
    "raw_df.head()\n",
    "# raw_df.shape"
   ]
  },
  {
   "cell_type": "code",
   "execution_count": 127,
   "id": "19269dd3-f961-4522-a1cf-3cb7658390eb",
   "metadata": {},
   "outputs": [],
   "source": [
    "data = raw_df.values[:, :-1] #all rows and columns except the last column\n",
    "# data.shape\n",
    "target = raw_df.values[:, -1] #only the last column\n",
    "# target\n",
    "# target.shape"
   ]
  },
  {
   "cell_type": "code",
   "execution_count": 128,
   "id": "882a863d-f79a-4587-98ac-09b74718cc9c",
   "metadata": {},
   "outputs": [
    {
     "name": "stdout",
     "output_type": "stream",
     "text": [
      "X data shape=  (476, 168)\n",
      "y target shape=  (476,)\n"
     ]
    }
   ],
   "source": [
    "X = data\n",
    "y = target\n",
    "print('X data shape= ', X.shape)\n",
    "print('y target shape= ', y.shape)"
   ]
  },
  {
   "cell_type": "markdown",
   "id": "904c5fb6-3c1c-4ff0-9b00-8c1ef83ca759",
   "metadata": {},
   "source": [
    "### Raw Unscaled Data"
   ]
  },
  {
   "cell_type": "code",
   "execution_count": 129,
   "id": "4eae20a4-3b4c-4afd-8dcc-c4ab5be6073b",
   "metadata": {},
   "outputs": [],
   "source": [
    "from sklearn.model_selection import train_test_split\n",
    "#splitting test and train data\n",
    "X_train, X_test, y_train, y_test = train_test_split(X, y, test_size = 0.2, random_state = 42) #20% is test data\n",
    "#note that this data is raw and unscaled"
   ]
  },
  {
   "cell_type": "code",
   "execution_count": 130,
   "id": "6e4584e6-2a9e-4f8d-849a-de6b1189fc56",
   "metadata": {},
   "outputs": [
    {
     "name": "stdout",
     "output_type": "stream",
     "text": [
      "(380, 168) (96, 168) (380,) (96,)\n"
     ]
    }
   ],
   "source": [
    "print(X_train.shape, X_test.shape, y_train.shape, y_test.shape)"
   ]
  },
  {
   "cell_type": "code",
   "execution_count": 131,
   "id": "a979eb7f-55e5-49a3-9cca-9babe3b82c47",
   "metadata": {},
   "outputs": [],
   "source": [
    "#for raw, unscaled data, using the variance filer- not doing this step as per Dr. Misra's latest message on canvas\n",
    "# from sklearn.feature_selection import VarianceThreshold\n",
    "# var_threshold = VarianceThreshold(threshold = 0.01) #removing features which have similar values 99% of the time\n",
    "# var_threshold.fit(X_train)\n",
    "# X_train_unscaled_variance_filtered = var_threshold.transform(X_train)\n",
    "# X_test_unscaled_variance_filtered = var_threshold.transform(X_test)\n",
    "# print('X train raw variance filter shape= ', X_train_unscaled_variance_filtered.shape)\n",
    "# print('X test raw variance filter shape=', X_test_unscaled_variance_filtered.shape)"
   ]
  },
  {
   "cell_type": "code",
   "execution_count": 132,
   "id": "b4ff2f5d-e8e8-49fd-a1f4-2024207e2d48",
   "metadata": {},
   "outputs": [
    {
     "name": "stdout",
     "output_type": "stream",
     "text": [
      "KNN: Score for raw unscaled data: 1.000000\n",
      "LR: Score for raw unscaled data: 0.947917\n",
      "Random Forest: Score for raw unscaled data: 0.947917\n"
     ]
    }
   ],
   "source": [
    "#RAW UNSCALED DATA: running the default logistic regression, random forest and KNN for raw unscaled data \n",
    "\n",
    "#KNN\n",
    "from sklearn.neighbors import KNeighborsRegressor \n",
    "kn = KNeighborsRegressor() #using the default hyperparamteres\n",
    "# train on unscaled raw data and test on unscaled raw data \n",
    "kn.fit(X_train, y_train) #learn from the training data\n",
    "knn_raw_unscaled_data_score = kn.score(X_test, y_test)\n",
    "print(\"KNN: Score for raw unscaled data: %f\" % knn_raw_unscaled_data_score) \n",
    "\n",
    "#Logistic Regression\n",
    "from sklearn.linear_model import LogisticRegression \n",
    "lr = LogisticRegression(max_iter = 10000) #using the default hyperparamteres- gives a convergence warning, gets resolved if I set max_iter = 10000\n",
    "lr.fit(X_train, y_train)\n",
    "lr_raw_unscaled_data_score = lr.score(X_test, y_test)\n",
    "print(\"LR: Score for raw unscaled data: %f\" % lr_raw_unscaled_data_score) \n",
    "\n",
    "#Random Forest\n",
    "from sklearn.ensemble import RandomForestClassifier\n",
    "rf = RandomForestClassifier() #using the default hyperparamteres\n",
    "rf.fit(X_train, y_train)\n",
    "rf_raw_unscaled_data_score = rf.score(X_test, y_test)\n",
    "print(\"Random Forest: Score for raw unscaled data: %f\" % rf_raw_unscaled_data_score)"
   ]
  },
  {
   "cell_type": "markdown",
   "id": "f401ef3e-8625-4619-8ddc-b3c310f2e8c8",
   "metadata": {},
   "source": [
    "### Scaled Data using Standard Scaler"
   ]
  },
  {
   "cell_type": "code",
   "execution_count": 133,
   "id": "26f21ef7-2ad5-467e-8a40-127f5b30c1ad",
   "metadata": {},
   "outputs": [],
   "source": [
    "from sklearn.preprocessing import StandardScaler\n",
    "#Standard scaling for scaled data\n",
    "scl = StandardScaler()\n",
    "scl.fit(X_train)\n",
    "X_train_scaled = scl.transform(X_train) #scaling train data\n",
    "X_test_scaled = scl.transform(X_test) #scaling test data"
   ]
  },
  {
   "cell_type": "code",
   "execution_count": 134,
   "id": "787ee753-cd28-45d0-bf78-bbf343ed85f8",
   "metadata": {},
   "outputs": [
    {
     "name": "stdout",
     "output_type": "stream",
     "text": [
      "KNN: Score with all for raw scaled data: 0.580109\n",
      "LR: Score with for raw scaled data: 0.875000\n",
      "Random Forest: Score with for raw scaled data: 0.979167\n"
     ]
    }
   ],
   "source": [
    "#SCALED DATA: running the default logistic regression, random forest and KNN for scaled data using standard scaler\n",
    "\n",
    "#KNN\n",
    "kn.fit(X_train_scaled, y_train) #learn from the training data\n",
    "knn_scaled_data_score = kn.score(X_test_scaled, y_test)\n",
    "print(\"KNN: Score with all for raw scaled data: %f\" % knn_scaled_data_score) \n",
    "\n",
    "#Logistic Regression\n",
    "lr.fit(X_train_scaled, y_train)\n",
    "lr_scaled_data_score = lr.score(X_test_scaled, y_test)\n",
    "print(\"LR: Score with for raw scaled data: %f\" % lr_scaled_data_score) \n",
    "\n",
    "#Random Forest\n",
    "rf.fit(X_train_scaled, y_train)\n",
    "rf_scaled_data_score = rf.score(X_test_scaled, y_test)\n",
    "print(\"Random Forest: Score with for raw scaled data: %f\" % rf_scaled_data_score)"
   ]
  },
  {
   "cell_type": "markdown",
   "id": "9767ad69-8ff5-49d4-a433-3ff5909535c4",
   "metadata": {},
   "source": [
    "### Slightly reduced scaled data"
   ]
  },
  {
   "cell_type": "code",
   "execution_count": 135,
   "id": "26f00abe-96b7-4237-86a7-82ac719b0626",
   "metadata": {},
   "outputs": [],
   "source": [
    "#Slightly reduced scaled data using association test- not using variance filter \n",
    "# as per Dr.Misra's latest message on Canvas\n",
    "from sklearn.feature_selection import f_classif #usinf f_classif since target is categorical\n",
    "from sklearn.feature_selection import mutual_info_classif #non-linear\n",
    "\n",
    "F, p = f_classif(X_train_scaled, y_train) #computing F score and p from train data and target\n",
    "mi = mutual_info_classif(X_train_scaled, y_train, random_state = 42)  #learn preprocessing from train \n",
    "#also got to know that mutual_info_classif has some randomness which was why \n",
    "#i was probably getting different number of significant features"
   ]
  },
  {
   "cell_type": "code",
   "execution_count": 136,
   "id": "7572363a-0a10-4ec4-a39d-7206da957542",
   "metadata": {},
   "outputs": [],
   "source": [
    "# #Plot for F\n",
    "# plt.figure()\n",
    "# plt.plot(F, 'o')\n",
    "# plt.ylabel('F value')\n",
    "# plt.xlabel('features')"
   ]
  },
  {
   "cell_type": "code",
   "execution_count": 137,
   "id": "28d2eb2f-77cc-444a-b7d4-aef98b7f687e",
   "metadata": {},
   "outputs": [],
   "source": [
    "# #Plot for p\n",
    "# plt.figure()\n",
    "# plt.semilogy(p, 'o')\n",
    "# plt.semilogy(0.01*np.ones(len(p)), '--') #p should be less than 0.01\n",
    "# plt.ylabel('p value')\n",
    "# plt.xlabel('features')"
   ]
  },
  {
   "cell_type": "code",
   "execution_count": 138,
   "id": "066e4785-cf37-422c-a31a-db562a68f2ea",
   "metadata": {},
   "outputs": [],
   "source": [
    "# #mi values for non-linear\n",
    "# plt.figure()\n",
    "# plt.plot(mi, 'o')\n",
    "# plt.ylabel('mi value')\n",
    "# plt.xlabel('features')"
   ]
  },
  {
   "cell_type": "code",
   "execution_count": 139,
   "id": "22c41c55-3005-4c8f-a1ef-abe9bbaaf893",
   "metadata": {},
   "outputs": [
    {
     "name": "stdout",
     "output_type": "stream",
     "text": [
      "no. of significant features from scaled data post variance filter and association test: 61\n"
     ]
    }
   ],
   "source": [
    "#choosing features with F score greater than 20 and p less than 0.05, or mi greater than 0.1\n",
    "print('no. of significant features from scaled data post variance filter and association test: {}'.format(len(p[((F>20)&(p<0.05))|(mi>0.1)]))) "
   ]
  },
  {
   "cell_type": "code",
   "execution_count": 140,
   "id": "9fa41c49-7a9e-4b15-93cb-51034e5170c0",
   "metadata": {},
   "outputs": [
    {
     "name": "stdout",
     "output_type": "stream",
     "text": [
      "X train scaled association test shape=  (380, 61)\n",
      "X test scaled association test shape= (96, 61)\n"
     ]
    }
   ],
   "source": [
    "#Creating Slightly reduced scaled data using the mask\n",
    "X_train_scaled_assoc_reduced = X_train_scaled[:, ((F>20)&(p<0.01))|(mi>0.1)]\n",
    "X_test_scaled_assoc_reduced = X_test_scaled[:, ((F>20)&(p<0.01))|(mi>0.1)]\n",
    "print('X train scaled association test shape= ', X_train_scaled_assoc_reduced.shape)\n",
    "print('X test scaled association test shape=', X_test_scaled_assoc_reduced.shape)"
   ]
  },
  {
   "cell_type": "code",
   "execution_count": 141,
   "id": "ad377dd0-afe8-4ec0-bd53-b577ebf798fd",
   "metadata": {},
   "outputs": [
    {
     "name": "stdout",
     "output_type": "stream",
     "text": [
      "KNN: Score for scaled data post association test: 0.555717\n",
      "LR: Score for scaled data post association test: 0.843750\n",
      "Random Forest: Score for scaled data post association test: 0.958333\n"
     ]
    }
   ],
   "source": [
    "#SLIGHTLY REDUCED SCALED DATA: running the default logistic regression, random forest and KNN for scaled data association test\n",
    "\n",
    "#KNN\n",
    "kn.fit(X_train_scaled_assoc_reduced, y_train) #learn from the training data\n",
    "knn_slightly_reduced_scaled_data_score = kn.score(X_test_scaled_assoc_reduced, y_test)\n",
    "print(\"KNN: Score for scaled data post association test: %f\" % knn_slightly_reduced_scaled_data_score) \n",
    "\n",
    "#Logistic Regression\n",
    "lr.fit(X_train_scaled_assoc_reduced, y_train)\n",
    "lr_slightly_reduced_scaled_data_score = lr.score(X_test_scaled_assoc_reduced, y_test)\n",
    "print(\"LR: Score for scaled data post association test: %f\" % lr_slightly_reduced_scaled_data_score) \n",
    "\n",
    "#Random Forest\n",
    "rf.fit(X_train_scaled_assoc_reduced, y_train)\n",
    "rf_slightly_reduced_scaled_data_score = rf.score(X_test_scaled_assoc_reduced, y_test)\n",
    "print(\"Random Forest: Score for scaled data post association test: %f\" % rf_slightly_reduced_scaled_data_score)"
   ]
  },
  {
   "cell_type": "markdown",
   "id": "9b49da40-d67a-484a-9680-5fd54bb28586",
   "metadata": {},
   "source": [
    "### Intermediately reduced scaled data"
   ]
  },
  {
   "cell_type": "code",
   "execution_count": 142,
   "id": "079cdc02-2a85-46c4-b4ea-7cb15bb4a921",
   "metadata": {},
   "outputs": [
    {
     "name": "stdout",
     "output_type": "stream",
     "text": [
      "X train scaled assoc RFE shape=  (380, 30)\n",
      "X test scaled assoc RFE shape= (96, 30)\n"
     ]
    }
   ],
   "source": [
    "#Intermediately reduced scaled data using RFE post association test\n",
    "from sklearn.feature_selection import RFE\n",
    "\n",
    "# instantiate recursive feature selection\n",
    "# using default hyperparamters for RandomForestClassifier, and RFE\n",
    "select = RFE(RandomForestClassifier())\n",
    "\n",
    "# learn from scaled data\n",
    "select.fit(X_train_scaled_assoc_reduced, y_train)\n",
    "X_train_scaled_assoc_reduced_rfe  = select.transform(X_train_scaled_assoc_reduced) #removing unwanted features\n",
    "X_test_scaled_assoc_reduced_rfe = select.transform(X_test_scaled_assoc_reduced)\n",
    "\n",
    "print('X train scaled assoc RFE shape= ', X_train_scaled_assoc_reduced_rfe.shape)\n",
    "print('X test scaled assoc RFE shape=', X_test_scaled_assoc_reduced_rfe.shape)"
   ]
  },
  {
   "cell_type": "code",
   "execution_count": 143,
   "id": "1be5f14b-74dd-4133-98d9-d9c66662b7d8",
   "metadata": {},
   "outputs": [
    {
     "name": "stdout",
     "output_type": "stream",
     "text": [
      "KNN: Score for scaled data post association test and RFE: 0.486025\n",
      "LR: Score for scaled data post association test and RFE: 0.843750\n",
      "Random Forest: Score for scaled data post association test and RFE: 1.000000\n"
     ]
    }
   ],
   "source": [
    "#INTERMEDIATELY REDUCED SCALED DATA: running the default logistic regression, random forest and KNN for scaled data after association test and RFE\n",
    "\n",
    "#KNN\n",
    "kn.fit(X_train_scaled_assoc_reduced_rfe, y_train) #learn from the training data\n",
    "knn_intermediately_reduced_scaled_data_score = kn.score(X_test_scaled_assoc_reduced_rfe, y_test)\n",
    "print(\"KNN: Score for scaled data post association test and RFE: %f\" % knn_intermediately_reduced_scaled_data_score) \n",
    "\n",
    "#Logistic Regression\n",
    "lr.fit(X_train_scaled_assoc_reduced_rfe, y_train)\n",
    "lr_intermediately_reduced_scaled_data_score = lr.score(X_test_scaled_assoc_reduced_rfe, y_test)\n",
    "print(\"LR: Score for scaled data post association test and RFE: %f\" % lr_intermediately_reduced_scaled_data_score) \n",
    "\n",
    "#Random Forest\n",
    "rf.fit(X_train_scaled_assoc_reduced_rfe, y_train)\n",
    "rf_intermediately_reduced_scaled_data_score = rf.score(X_test_scaled_assoc_reduced_rfe, y_test)\n",
    "print(\"Random Forest: Score for scaled data post association test and RFE: %f\" % rf_intermediately_reduced_scaled_data_score)"
   ]
  },
  {
   "cell_type": "markdown",
   "id": "238e60e8-29c0-4cc3-8808-ec9b2334e2b1",
   "metadata": {},
   "source": [
    "### Highly reduced scaled data"
   ]
  },
  {
   "cell_type": "code",
   "execution_count": 148,
   "id": "2786019c-03da-4b0f-a20d-df67528b99ca",
   "metadata": {},
   "outputs": [
    {
     "data": {
      "text/plain": [
       "array([0.22901909, 0.34777615, 0.458604  , 0.55655207, 0.64790144,\n",
       "       0.70401386, 0.75534251, 0.79572812, 0.83113659, 0.86500528,\n",
       "       0.88559471, 0.90348795, 0.92049076, 0.93281295, 0.94319601,\n",
       "       0.95247087, 0.96044187, 0.96782237, 0.9739741 , 0.97967892,\n",
       "       0.9848518 , 0.98949483, 0.99226716, 0.99468029, 0.99649855,\n",
       "       0.99802815, 0.99891197, 0.99940989, 0.99986544, 1.        ])"
      ]
     },
     "execution_count": 148,
     "metadata": {},
     "output_type": "execute_result"
    }
   ],
   "source": [
    "#PCA on Intermediately Scaled Data\n",
    "from sklearn.decomposition import PCA\n",
    "pca = PCA() # instantiate step 1\n",
    "pca.fit(X_train_scaled_assoc_reduced_rfe) # learn about the orthogonal directions of maximum variance on training data step 1\n",
    "np.cumsum(pca.explained_variance_ratio_) ## recommended- cummulative sum of the variances of PCA 1, PCA2 etc"
   ]
  },
  {
   "cell_type": "code",
   "execution_count": 149,
   "id": "6f0e0d5f-e568-4fe7-a47b-2bfbce414865",
   "metadata": {},
   "outputs": [
    {
     "name": "stdout",
     "output_type": "stream",
     "text": [
      "X train scaled assoc RFE PCA shape=  (380, 16)\n",
      "X test scaled assoc RFE PCA shape= (96, 16)\n"
     ]
    }
   ],
   "source": [
    "pca = PCA(n_components= 16) # new instantiation to extract the 16 most dominant principal components to capture 95% variance step 2\n",
    "\n",
    "X_train_scaled_assoc_reduced_rfe_pca = pca.fit_transform(X_train_scaled_assoc_reduced_rfe) # learn the 16 components, and transform train data step 2\n",
    "X_test_scaled_assoc_reduced_rfe_pca = pca.transform(X_test_scaled_assoc_reduced_rfe) # transform test data based on 16 learned components\n",
    "\n",
    "print('X train scaled assoc RFE PCA shape= ', X_train_scaled_assoc_reduced_rfe_pca.shape)\n",
    "print('X test scaled assoc RFE PCA shape=', X_test_scaled_assoc_reduced_rfe_pca.shape)"
   ]
  },
  {
   "cell_type": "code",
   "execution_count": 150,
   "id": "4b2d8b32-93d4-457e-b6f8-8600aa5482d6",
   "metadata": {},
   "outputs": [
    {
     "name": "stdout",
     "output_type": "stream",
     "text": [
      "KNN: Score for scaled data post association test, RFE and PCA: 0.454664\n",
      "LR: Score for scaled data post association test, RFE and PCA: 0.875000\n",
      "Random Forest: Score for scaled data post association test, RFE and PCA: 0.854167\n"
     ]
    }
   ],
   "source": [
    "#HIGHLY REDUCED SCALED DATA: running the default logistic regression, random forest and KNN for scaled data after association test, RFE and PCA\n",
    "\n",
    "#KNN\n",
    "kn.fit(X_train_scaled_assoc_reduced_rfe_pca, y_train) #learn from the training data\n",
    "knn_highly_reduced_data_score = kn.score(X_test_scaled_assoc_reduced_rfe_pca, y_test)\n",
    "print(\"KNN: Score for scaled data post association test, RFE and PCA: %f\" % knn_highly_reduced_data_score) \n",
    "\n",
    "#Logistic Regression\n",
    "lr.fit(X_train_scaled_assoc_reduced_rfe_pca, y_train)\n",
    "lr_highly_reduced_data_score = lr.score(X_test_scaled_assoc_reduced_rfe_pca, y_test)\n",
    "print(\"LR: Score for scaled data post association test, RFE and PCA: %f\" % lr_highly_reduced_data_score) \n",
    "\n",
    "#Random Forest\n",
    "rf.fit(X_train_scaled_assoc_reduced_rfe_pca, y_train)\n",
    "rf_highly_reduced_data_score = rf.score(X_test_scaled_assoc_reduced_rfe_pca, y_test)\n",
    "print(\"Random Forest: Score for scaled data post association test, RFE and PCA: %f\" % rf_highly_reduced_data_score)"
   ]
  },
  {
   "cell_type": "markdown",
   "id": "cde5502e-40bc-4946-8ecc-2aed909cef76",
   "metadata": {},
   "source": [
    "### Grouped Chart- 5 data conditions per classification task"
   ]
  },
  {
   "cell_type": "code",
   "execution_count": 151,
   "id": "efe98b02-f94f-4769-9663-6c223f02d04a",
   "metadata": {},
   "outputs": [
    {
     "data": {
      "image/png": "[encoded data removed]",
      "text/plain": [
       "<Figure size 1000x700 with 1 Axes>"
      ]
     },
     "metadata": {},
     "output_type": "display_data"
    }
   ],
   "source": [
    "#PLOTTING SINGLE GROUPED BAR CHART\n",
    "import matplotlib.pyplot as plt\n",
    "\n",
    "# Number of groups- KNN, LR AND RF\n",
    "n_groups = 3\n",
    "\n",
    "# Example accuracy values for 5 data conditions (3 accuracies each)\n",
    "accuracies_raw_unscaled = [knn_raw_unscaled_data_score, lr_raw_unscaled_data_score, rf_raw_unscaled_data_score]\n",
    "accuracies_scaled = [knn_scaled_data_score, lr_scaled_data_score, rf_scaled_data_score]\n",
    "accuracies_slightly_reduced = [knn_slightly_reduced_scaled_data_score, lr_slightly_reduced_scaled_data_score, rf_slightly_reduced_scaled_data_score]\n",
    "accuracies_intermediately_reduced = [knn_intermediately_reduced_scaled_data_score, lr_intermediately_reduced_scaled_data_score, rf_intermediately_reduced_scaled_data_score]\n",
    "accuracies_highly_reduced = [knn_highly_reduced_data_score, lr_highly_reduced_data_score, rf_highly_reduced_data_score]\n",
    "\n",
    "# Names of each group- \n",
    "groups = ['KNN', 'Logistic\\nRegression\\n', 'Random\\nForest']\n",
    "\n",
    "# Setting the positions and width for the bars\n",
    "n_conditions = 5  # Number of data conditions\n",
    "index = np.arange(n_groups)  # Group positions\n",
    "bar_width = 0.15  # Narrower bar width to fit all bars\n",
    "opacity = 1\n",
    "\n",
    "# Plotting the bars\n",
    "fig, ax = plt.subplots(figsize=(10, 7))\n",
    "\n",
    "# Adjusting bar positions\n",
    "positions = [index + bar_width * shift for shift in range(n_conditions)]\n",
    "\n",
    "# Plot each condition\n",
    "plt.bar(positions[0], accuracies_raw_unscaled, bar_width, alpha=opacity, label='Raw unscaled data')\n",
    "plt.bar(positions[1], accuracies_scaled, bar_width, alpha=opacity, label='Scaled data')\n",
    "plt.bar(positions[2], accuracies_slightly_reduced, bar_width, alpha=opacity, label='Slightly reduced scaled data')\n",
    "plt.bar(positions[3], accuracies_intermediately_reduced, bar_width, alpha=opacity, label='Intermediately reduced scaled data')\n",
    "plt.bar(positions[4], accuracies_highly_reduced, bar_width, alpha=opacity, label='Highly reduced scaled data')\n",
    "\n",
    "\n",
    "# Set the y and x axis label\n",
    "ax.set_ylabel('Classification Accuracy')\n",
    "\n",
    "ax.set_xlabel('Classification Tasks')\n",
    "\n",
    "# Set the chart's title\n",
    "ax.set_title('Classification Accuracies for Different Classification Tasks')\n",
    "\n",
    "# Set the position of the x ticks\n",
    "ax.set_xticks(index + bar_width * 2) \n",
    "\n",
    "# Set the labels for the x ticks\n",
    "ax.set_xticklabels(groups)\n",
    "\n",
    "# Adding the legend with some space from the chart\n",
    "plt.legend(['Raw unscaled data', 'Scaled data', 'Slightly reduced scaled data', 'Intermediately reduced scaled data', 'Highly reduced scaled data'], loc='upper left', bbox_to_anchor=(1, 1))\n",
    "# Adjust layout to make room for the legend\n",
    "plt.tight_layout()\n",
    "plt.grid()\n",
    "plt.show()"
   ]
  },
  {
   "cell_type": "code",
   "execution_count": null,
   "id": "dcc4c833-4d40-4055-8b53-067e6a8ad5d2",
   "metadata": {},
   "outputs": [],
   "source": []
  }
 ],
 "metadata": {
  "kernelspec": {
   "display_name": "Python 3 (ipykernel)",
   "language": "python",
   "name": "python3"
  },
  "language_info": {
   "codemirror_mode": {
    "name": "ipython",
    "version": 3
   },
   "file_extension": ".py",
   "mimetype": "text/x-python",
   "name": "python",
   "nbconvert_exporter": "python",
   "pygments_lexer": "ipython3",
   "version": "3.12.0"
  }
 },
 "nbformat": 4,
 "nbformat_minor": 5
}
